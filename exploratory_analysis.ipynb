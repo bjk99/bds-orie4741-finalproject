{
 "cells": [
  {
   "cell_type": "code",
   "execution_count": 2,
   "metadata": {},
   "outputs": [],
   "source": [
    "import numpy as np\n",
    "import pandas as pd\n",
    "from scipy import linalg\n",
    "from matplotlib import pyplot as plt\n",
    "from google.cloud import bigquery\n",
    "from google.cloud import bigquery_storage_v1beta1"
   ]
  },
  {
   "cell_type": "markdown",
   "metadata": {},
   "source": [
    "# Boston Dataset"
   ]
  },
  {
   "cell_type": "code",
   "execution_count": 80,
   "metadata": {},
   "outputs": [],
   "source": [
    "def get_fresh_boston_data(keep_locations=False):\n",
    "    weird_dtypes = {\n",
    "        s: 'object' for s in [\n",
    "            'INCIDENT_NUMBER',\n",
    "            'OFFENSE_CODE_GROUP',\n",
    "            'OFFENSE_DESCRIPTION',\n",
    "            'DISTRICT',\n",
    "            'REPORTING_AREA',\n",
    "            'SHOOTING',\n",
    "            'OCCURRED_ON_DATE',\n",
    "            'DAY_OF_WEEK',\n",
    "            'UCR_PART',\n",
    "            'STREET'\n",
    "        ]\n",
    "    }\n",
    "    df = pd.read_csv(\"boston_crime.csv\",encoding = \"ISO-8859-1\",dtype=weird_dtypes)\n",
    "    df.rename({name : name.lower() for name in df.columns}, axis=1, inplace=True)\n",
    "    df[\"shooting\"] = df[\"shooting\"] == 'Y'\n",
    "    \n",
    "    \n",
    "    ############# nominal / ordinal encoding #############\n",
    "    \n",
    "    \n",
    "    # ucr_part is nominal (part I is the most extreme)\n",
    "    # We use one-hot encoding similar to that done on the prelim;\n",
    "    # 'ucr_lte_two' indicates that it was in part 2 or less severe\n",
    "    # (note that part 3 is less severe than part 2)\n",
    "    \n",
    "    df[\"ucr_part\"].fillna(\"Other\",inplace=True) # we assume that most NaN are the same as \"Other\"\n",
    "    \n",
    "    def real_encode_ucr(s):\n",
    "        num = s.rsplit(\" \", 1)[-1]\n",
    "        if num == \"One\":\n",
    "            return 1\n",
    "        if num == \"Two\":\n",
    "            return 2\n",
    "        if num == \"Three\":\n",
    "            return 3\n",
    "        if num == \"Other\":\n",
    "            return 4 \n",
    "            # We want \"Other\" and NaN to be represented as \"no information\".\n",
    "            # We encode it as 4 (less severe than the least severe code), so \n",
    "            # that it will be encoded as \"1\" in all three features we generate below.\n",
    "            # We hope that this will provide the least biased information.\n",
    "    \n",
    "    real_encoded_ucr_part = df[\"ucr_part\"].apply(real_encode_ucr)\n",
    "    \n",
    "    df[\"ucr_lt_1\"] = real_encoded_ucr_part > 1 # \"lte\" stands for \"severity less than or equal to\"\n",
    "    df[\"ucr_lt_2\"] = real_encoded_ucr_part > 2\n",
    "    df[\"ucr_lt_3\"] = real_encoded_ucr_part > 3 \n",
    "    # note that 4 is a fake part that we made up to deal with missing data\n",
    "    \n",
    "    df[\"is_weekend\"] = df[\"day_of_week\"].apply(lambda s: s == \"Saturday\" or s == \"Sunday\")\n",
    "    \n",
    "    if keep_locations:\n",
    "        return df\n",
    "    \n",
    "    \n",
    "    ################## do processing in order to be blind to neighborhood location #############\n",
    "    df.drop(labels=[\"incident_number\"], axis=1, inplace=True)\n",
    "    \n",
    "    # drop latitude and longitude\n",
    "    df.drop(labels=[\"lat\",\"long\",\"location\",\"district\",\"reporting_area\"], axis=1, inplace=True)\n",
    "    \n",
    "    # reporting_area\n",
    "    df[\"street_type\"] = df[\"street\"].apply(lambda s: \"\" if not isinstance(s,str) else s.rsplit(\" \", 1)[-1])\n",
    "    street_counts = df[\"street_type\"].value_counts()\n",
    "    def replace_streets(streetpostfix):\n",
    "        common_street_names = [\n",
    "            'BROADWAY','TER',''\n",
    "            \n",
    "        ]\n",
    "        if (street_counts[streetpostfix] < 350 or streetpostfix in common_street_names):\n",
    "            return \"OTHER\"\n",
    "        return streetpostfix\n",
    "    df[\"street_type\"] = df[\"street_type\"].apply(replace_streets)\n",
    "    df.drop(labels=[\"street\"], axis=1, inplace=True)\n",
    "    \n",
    "    \n",
    "    return df"
   ]
  },
  {
   "cell_type": "code",
   "execution_count": 4,
   "metadata": {},
   "outputs": [],
   "source": [
    "df = get_fresh_boston_data()"
   ]
  },
  {
   "cell_type": "code",
   "execution_count": 5,
   "metadata": {},
   "outputs": [
    {
     "data": {
      "text/html": [
       "<div>\n",
       "<style scoped>\n",
       "    .dataframe tbody tr th:only-of-type {\n",
       "        vertical-align: middle;\n",
       "    }\n",
       "\n",
       "    .dataframe tbody tr th {\n",
       "        vertical-align: top;\n",
       "    }\n",
       "\n",
       "    .dataframe thead th {\n",
       "        text-align: right;\n",
       "    }\n",
       "</style>\n",
       "<table border=\"1\" class=\"dataframe\">\n",
       "  <thead>\n",
       "    <tr style=\"text-align: right;\">\n",
       "      <th></th>\n",
       "      <th>offense_code</th>\n",
       "      <th>offense_code_group</th>\n",
       "      <th>offense_description</th>\n",
       "      <th>shooting</th>\n",
       "      <th>occurred_on_date</th>\n",
       "      <th>year</th>\n",
       "      <th>month</th>\n",
       "      <th>day_of_week</th>\n",
       "      <th>hour</th>\n",
       "      <th>ucr_part</th>\n",
       "      <th>ucr_lte_two</th>\n",
       "      <th>ucr_lte_three</th>\n",
       "      <th>ucr_lte_four</th>\n",
       "      <th>is_weekend</th>\n",
       "      <th>street_type</th>\n",
       "    </tr>\n",
       "  </thead>\n",
       "  <tbody>\n",
       "    <tr>\n",
       "      <th>0</th>\n",
       "      <td>2403</td>\n",
       "      <td>Disorderly Conduct</td>\n",
       "      <td>DISTURBING THE PEACE</td>\n",
       "      <td>False</td>\n",
       "      <td>2018-10-03 20:13:00</td>\n",
       "      <td>2018</td>\n",
       "      <td>10</td>\n",
       "      <td>Wednesday</td>\n",
       "      <td>20</td>\n",
       "      <td>Part Two</td>\n",
       "      <td>True</td>\n",
       "      <td>False</td>\n",
       "      <td>False</td>\n",
       "      <td>False</td>\n",
       "      <td>ST</td>\n",
       "    </tr>\n",
       "    <tr>\n",
       "      <th>1</th>\n",
       "      <td>3201</td>\n",
       "      <td>Property Lost</td>\n",
       "      <td>PROPERTY - LOST</td>\n",
       "      <td>False</td>\n",
       "      <td>2018-08-30 20:00:00</td>\n",
       "      <td>2018</td>\n",
       "      <td>8</td>\n",
       "      <td>Thursday</td>\n",
       "      <td>20</td>\n",
       "      <td>Part Three</td>\n",
       "      <td>True</td>\n",
       "      <td>True</td>\n",
       "      <td>False</td>\n",
       "      <td>False</td>\n",
       "      <td>ST</td>\n",
       "    </tr>\n",
       "    <tr>\n",
       "      <th>2</th>\n",
       "      <td>2647</td>\n",
       "      <td>Other</td>\n",
       "      <td>THREATS TO DO BODILY HARM</td>\n",
       "      <td>False</td>\n",
       "      <td>2018-10-03 19:20:00</td>\n",
       "      <td>2018</td>\n",
       "      <td>10</td>\n",
       "      <td>Wednesday</td>\n",
       "      <td>19</td>\n",
       "      <td>Part Two</td>\n",
       "      <td>True</td>\n",
       "      <td>False</td>\n",
       "      <td>False</td>\n",
       "      <td>False</td>\n",
       "      <td>ST</td>\n",
       "    </tr>\n",
       "    <tr>\n",
       "      <th>3</th>\n",
       "      <td>413</td>\n",
       "      <td>Aggravated Assault</td>\n",
       "      <td>ASSAULT - AGGRAVATED - BATTERY</td>\n",
       "      <td>False</td>\n",
       "      <td>2018-10-03 20:00:00</td>\n",
       "      <td>2018</td>\n",
       "      <td>10</td>\n",
       "      <td>Wednesday</td>\n",
       "      <td>20</td>\n",
       "      <td>Part One</td>\n",
       "      <td>False</td>\n",
       "      <td>False</td>\n",
       "      <td>False</td>\n",
       "      <td>False</td>\n",
       "      <td>ST</td>\n",
       "    </tr>\n",
       "    <tr>\n",
       "      <th>4</th>\n",
       "      <td>3122</td>\n",
       "      <td>Aircraft</td>\n",
       "      <td>AIRCRAFT INCIDENTS</td>\n",
       "      <td>False</td>\n",
       "      <td>2018-10-03 20:49:00</td>\n",
       "      <td>2018</td>\n",
       "      <td>10</td>\n",
       "      <td>Wednesday</td>\n",
       "      <td>20</td>\n",
       "      <td>Part Three</td>\n",
       "      <td>True</td>\n",
       "      <td>True</td>\n",
       "      <td>False</td>\n",
       "      <td>False</td>\n",
       "      <td>ST</td>\n",
       "    </tr>\n",
       "  </tbody>\n",
       "</table>\n",
       "</div>"
      ],
      "text/plain": [
       "   offense_code  offense_code_group             offense_description  shooting  \\\n",
       "0          2403  Disorderly Conduct            DISTURBING THE PEACE     False   \n",
       "1          3201       Property Lost                 PROPERTY - LOST     False   \n",
       "2          2647               Other       THREATS TO DO BODILY HARM     False   \n",
       "3           413  Aggravated Assault  ASSAULT - AGGRAVATED - BATTERY     False   \n",
       "4          3122            Aircraft              AIRCRAFT INCIDENTS     False   \n",
       "\n",
       "      occurred_on_date  year  month day_of_week  hour    ucr_part  \\\n",
       "0  2018-10-03 20:13:00  2018     10   Wednesday    20    Part Two   \n",
       "1  2018-08-30 20:00:00  2018      8    Thursday    20  Part Three   \n",
       "2  2018-10-03 19:20:00  2018     10   Wednesday    19    Part Two   \n",
       "3  2018-10-03 20:00:00  2018     10   Wednesday    20    Part One   \n",
       "4  2018-10-03 20:49:00  2018     10   Wednesday    20  Part Three   \n",
       "\n",
       "   ucr_lte_two  ucr_lte_three  ucr_lte_four  is_weekend street_type  \n",
       "0         True          False         False       False          ST  \n",
       "1         True           True         False       False          ST  \n",
       "2         True          False         False       False          ST  \n",
       "3        False          False         False       False          ST  \n",
       "4         True           True         False       False          ST  "
      ]
     },
     "execution_count": 5,
     "metadata": {},
     "output_type": "execute_result"
    }
   ],
   "source": [
    "df.head()"
   ]
  },
  {
   "cell_type": "markdown",
   "metadata": {},
   "source": [
    "First, let's do a naive analysis of the distribution of several features, to see what kind of biases might arise from data availability."
   ]
  },
  {
   "cell_type": "code",
   "execution_count": 6,
   "metadata": {},
   "outputs": [
    {
     "data": {
      "image/png": "[encoded data removed]",
      "text/plain": [
       "<Figure size 432x288 with 1 Axes>"
      ]
     },
     "metadata": {
      "needs_background": "light"
     },
     "output_type": "display_data"
    }
   ],
   "source": [
    "plt.violinplot(df[\"offense_code\"])\n",
    "plt.show()"
   ]
  },
  {
   "cell_type": "code",
   "execution_count": 7,
   "metadata": {},
   "outputs": [
    {
     "name": "stdout",
     "output_type": "stream",
     "text": [
      "10577228.015015014\n"
     ]
    }
   ],
   "source": [
    "print(np.var([np.unique(df[\"offense_code\"], return_counts=True)[1]]))"
   ]
  },
  {
   "cell_type": "markdown",
   "metadata": {},
   "source": [
    "It appears that there is a large variance in the number of occurences of offense codes. Therefore, a regression or classification on offense code using the full dataset is very likely to be biased towards accurately predicting frequent offense codes are not the less frequent offense codes. This is good if we are trying to accurately predict the majority of points, and weight all offense codes equally. However, this could grealty skew our results if we are trying to give higher weight to more extreme crimes, which are likely to happen less than less extreme crimes.\n",
    "Since we have very little data on some crimes, simply cutting down the number of data points trained on from each offense code would either result in too little data (if we limited the number of daa points from each offense code to the lowest frequency of any their offense code) or simply not work (if we probabilistically choose points based on the frequency of their offense code).\n",
    "\n",
    "Instead, it might be better to use offense_code_group, which nicely bins the offenses for us."
   ]
  },
  {
   "cell_type": "code",
   "execution_count": 8,
   "metadata": {},
   "outputs": [
    {
     "data": {
      "image/png": "[encoded data removed]",
      "text/plain": [
       "<Figure size 1440x720 with 1 Axes>"
      ]
     },
     "metadata": {
      "needs_background": "light"
     },
     "output_type": "display_data"
    }
   ],
   "source": [
    "group, group_counts = np.unique(df[\"offense_code_group\"], return_counts=True)\n",
    "order = np.argsort(group_counts)[::-1]\n",
    "plt.rcParams[\"figure.figsize\"] = (20,10)\n",
    "plt.bar(group[order], height=group_counts[order])\n",
    "plt.xticks(rotation='vertical')\n",
    "plt.yticks(range(0,group_counts[order[0]]+1000,1000))\n",
    "plt.grid(True, which='major', axis='y')\n",
    "plt.show()"
   ]
  },
  {
   "cell_type": "markdown",
   "metadata": {},
   "source": [
    "Here, we can see that there are at least around 1000 data points for the majority of code groups. We should ignore the other code groups, because we do not have enough data to accurately predict them. This is a shame, because these include many extreme crimes of particular interest, but it is better to narrow the scope of our model than to extrapolate without good reason to believe that we can accurately extrapolate."
   ]
  },
  {
   "cell_type": "code",
   "execution_count": 9,
   "metadata": {},
   "outputs": [
    {
     "data": {
      "image/png": "[encoded data removed]",
      "text/plain": [
       "<Figure size 1440x720 with 1 Axes>"
      ]
     },
     "metadata": {
      "needs_background": "light"
     },
     "output_type": "display_data"
    }
   ],
   "source": [
    "group, group_counts = np.unique(df[\"day_of_week\"], return_counts=True)\n",
    "order = np.argsort(group_counts)[::-1]\n",
    "plt.rcParams[\"figure.figsize\"] = (20,10)\n",
    "plt.bar(group[order], height=group_counts[order])\n",
    "plt.xticks(rotation='vertical')\n",
    "plt.yticks(range(0,group_counts[order[0]]+1000,10000))\n",
    "plt.grid(True, which='major', axis='y')\n",
    "plt.show()"
   ]
  },
  {
   "cell_type": "markdown",
   "metadata": {},
   "source": [
    "It seems like we have a similar number of data points from each day of the week."
   ]
  },
  {
   "cell_type": "markdown",
   "metadata": {},
   "source": []
  },
  {
   "cell_type": "code",
   "execution_count": 10,
   "metadata": {},
   "outputs": [
    {
     "data": {
      "image/png": "[encoded data removed]",
      "text/plain": [
       "<Figure size 1440x720 with 1 Axes>"
      ]
     },
     "metadata": {
      "needs_background": "light"
     },
     "output_type": "display_data"
    }
   ],
   "source": [
    "plt.bar(*np.unique(df[\"year\"], return_counts=True))\n",
    "plt.xticks(range(min(df[\"year\"]),max(df[\"year\"])+1))\n",
    "plt.show()"
   ]
  },
  {
   "cell_type": "markdown",
   "metadata": {},
   "source": [
    "We have significantly less data from 2015 compared to the other years. At this time, we don't believe this would cause any issues, since we still have a good amount of data from 2015 and we don't expect the distribution of times that crimes happen to change much throughout four years.\n",
    "Let's quickly check this by looking at the summary statistics throughout the different years:"
   ]
  },
  {
   "cell_type": "code",
   "execution_count": 11,
   "metadata": {},
   "outputs": [],
   "source": [
    "def print_summary_stats(xs,indent=0):\n",
    "    init_tabs = \" \"*indent\n",
    "    print(init_tabs+\"mean:\\t\", np.mean(xs))\n",
    "    print(init_tabs+\"median:\\t\", np.median(xs))\n",
    "    print(init_tabs+\"mode:\\t\", np.unique(xs)[-1])\n",
    "    print(init_tabs+\"sd:\\t\", np.std(xs))\n",
    "    print(init_tabs+\"min:\\t\", np.min(xs))\n",
    "    print(init_tabs+\"max:\\t\", np.max(xs))\n",
    "    print(init_tabs+\"count:\\t\", len(xs))\n",
    "    print(init_tabs+\"missing:\", sum(np.isnan(xs)))\n",
    "    \n",
    "    print(init_tabs+\"Percentiles:\")\n",
    "    for p in [10,25,50,75,90]:\n",
    "        print(init_tabs+\"\\t\",str(p) + \"%:\", np.percentile(xs,p))"
   ]
  },
  {
   "cell_type": "code",
   "execution_count": 12,
   "metadata": {},
   "outputs": [
    {
     "name": "stdout",
     "output_type": "stream",
     "text": [
      "Summary stats for 'hour' in year 2015:\n",
      "      mean:\t 13.02535960443512\n",
      "      median:\t 14.0\n",
      "      mode:\t 23\n",
      "      sd:\t 6.366802877918359\n",
      "      min:\t 0\n",
      "      max:\t 23\n",
      "      count:\t 53392\n",
      "      missing: 0\n",
      "      Percentiles:\n",
      "      \t 10%: 2.0\n",
      "      \t 25%: 9.0\n",
      "      \t 50%: 14.0\n",
      "      \t 75%: 18.0\n",
      "      \t 90%: 21.0\n",
      "Summary stats for 'hour' in year 2016:\n",
      "      mean:\t 13.160651239736115\n",
      "      median:\t 14.0\n",
      "      mode:\t 23\n",
      "      sd:\t 6.2899566827179125\n",
      "      min:\t 0\n",
      "      max:\t 23\n",
      "      count:\t 99134\n",
      "      missing: 0\n",
      "      Percentiles:\n",
      "      \t 10%: 3.0\n",
      "      \t 25%: 9.0\n",
      "      \t 50%: 14.0\n",
      "      \t 75%: 18.0\n",
      "      \t 90%: 21.0\n",
      "Summary stats for 'hour' in year 2017:\n",
      "      mean:\t 13.141601775347242\n",
      "      median:\t 14.0\n",
      "      mode:\t 23\n",
      "      sd:\t 6.277429524825562\n",
      "      min:\t 0\n",
      "      max:\t 23\n",
      "      count:\t 100938\n",
      "      missing: 0\n",
      "      Percentiles:\n",
      "      \t 10%: 3.0\n",
      "      \t 25%: 9.0\n",
      "      \t 50%: 14.0\n",
      "      \t 75%: 18.0\n",
      "      \t 90%: 21.0\n",
      "Summary stats for 'hour' in year 2018:\n",
      "      mean:\t 13.081688095110012\n",
      "      median:\t 14.0\n",
      "      mode:\t 23\n",
      "      sd:\t 6.262642629231008\n",
      "      min:\t 0\n",
      "      max:\t 23\n",
      "      count:\t 74356\n",
      "      missing: 0\n",
      "      Percentiles:\n",
      "      \t 10%: 3.0\n",
      "      \t 25%: 9.0\n",
      "      \t 50%: 14.0\n",
      "      \t 75%: 18.0\n",
      "      \t 90%: 21.0\n"
     ]
    }
   ],
   "source": [
    "for year in sorted(np.unique(df[\"year\"])):\n",
    "    print(\"Summary stats for 'hour' in year \"+str(year)+\":\")\n",
    "    print_summary_stats(df[df[\"year\"] == year][\"hour\"],6)"
   ]
  },
  {
   "cell_type": "code",
   "execution_count": 13,
   "metadata": {},
   "outputs": [
    {
     "name": "stdout",
     "output_type": "stream",
     "text": [
      "Summary stats for 'month' in year 2015:\n",
      "      mean:\t 9.19383053640995\n",
      "      median:\t 9.0\n",
      "      mode:\t 12\n",
      "      sd:\t 1.8807488423559056\n",
      "      min:\t 6\n",
      "      max:\t 12\n",
      "      count:\t 53392\n",
      "      missing: 0\n",
      "      Percentiles:\n",
      "      \t 10%: 7.0\n",
      "      \t 25%: 8.0\n",
      "      \t 50%: 9.0\n",
      "      \t 75%: 11.0\n",
      "      \t 90%: 12.0\n",
      "Summary stats for 'month' in year 2016:\n",
      "      mean:\t 6.5643068977343795\n",
      "      median:\t 7.0\n",
      "      mode:\t 12\n",
      "      sd:\t 3.3894966394370845\n",
      "      min:\t 1\n",
      "      max:\t 12\n",
      "      count:\t 99134\n",
      "      missing: 0\n",
      "      Percentiles:\n",
      "      \t 10%: 2.0\n",
      "      \t 25%: 4.0\n",
      "      \t 50%: 7.0\n",
      "      \t 75%: 9.0\n",
      "      \t 90%: 11.0\n",
      "Summary stats for 'month' in year 2017:\n",
      "      mean:\t 6.552111196972399\n",
      "      median:\t 7.0\n",
      "      mode:\t 12\n",
      "      sd:\t 3.3612805255616633\n",
      "      min:\t 1\n",
      "      max:\t 12\n",
      "      count:\t 100938\n",
      "      missing: 0\n",
      "      Percentiles:\n",
      "      \t 10%: 2.0\n",
      "      \t 25%: 4.0\n",
      "      \t 50%: 7.0\n",
      "      \t 75%: 9.0\n",
      "      \t 90%: 11.0\n",
      "Summary stats for 'month' in year 2018:\n",
      "      mean:\t 5.168446393028135\n",
      "      median:\t 5.0\n",
      "      mode:\t 10\n",
      "      sd:\t 2.5739825370458274\n",
      "      min:\t 1\n",
      "      max:\t 10\n",
      "      count:\t 74356\n",
      "      missing: 0\n",
      "      Percentiles:\n",
      "      \t 10%: 1.0\n",
      "      \t 25%: 3.0\n",
      "      \t 50%: 5.0\n",
      "      \t 75%: 7.0\n",
      "      \t 90%: 9.0\n"
     ]
    }
   ],
   "source": [
    "for year in sorted(np.unique(df[\"year\"])):\n",
    "    print(\"Summary stats for 'month' in year \"+str(year)+\":\")\n",
    "    print_summary_stats(df[df[\"year\"] == year][\"month\"],6)"
   ]
  },
  {
   "cell_type": "markdown",
   "metadata": {},
   "source": [
    "It seems that the hours at which crime tend to occur are similar throughout all the years (although summary statistics can be deceiving), but the months during which crimes occur vary more significantly. When creating models, we will need to investigate this discrepancy more differently."
   ]
  },
  {
   "cell_type": "markdown",
   "metadata": {},
   "source": [
    "Now, let's create a quick linear model on the Boston Dataset, to try to predict which days shootings occur."
   ]
  },
  {
   "cell_type": "code",
   "execution_count": 46,
   "metadata": {},
   "outputs": [],
   "source": [
    "from sklearn.svm import SVC\n",
    "from sklearn.tree import DecisionTreeClassifier\n",
    "\n",
    "#model = SVC()\n",
    "model = DecisionTreeClassifier()\n",
    "\n",
    "def sample_shooting_data(train_percentage=None,test_percentage=0.2):\n",
    "    if train_percentage == None:\n",
    "        train_percentage = 1 - test_percentage\n",
    "    train_size = len(df.index) * train_percentage\n",
    "#     train = set(range(len(df.index)))\n",
    "    train = set()\n",
    "    test = set()\n",
    "    shootings_list = [i for i in range(len(df.index)) if df.loc[i,\"shooting\"] == True]\n",
    "    shootings = set(shootings_list)\n",
    "    nonshootings = set(i for i in range(len(df.index)) if i not in shootings)\n",
    "    \n",
    "    num_shootings = len(shootings)\n",
    "    num_nonshootings = len(nonshootings)\n",
    "    \n",
    "    for i in np.random.choice(list(shootings), int(train_percentage * num_shootings), replace=False):\n",
    "        train.add(i)\n",
    "    for i in np.random.choice(list(nonshootings), int(train_percentage * num_nonshootings), replace=False):\n",
    "        train.add(i)\n",
    "    \n",
    "    for i in train:\n",
    "        if i in shootings:\n",
    "            shootings.remove(i)\n",
    "        else:\n",
    "            nonshootings.remove(i)\n",
    "    for i in np.random.choice(list(shootings), int(test_percentage * num_shootings), replace=False):\n",
    "        test.add(i)\n",
    "    for i in np.random.choice(list(nonshootings), int(test_percentage * num_nonshootings), replace=False):\n",
    "        test.add(i)\n",
    "    \n",
    "#     for i in np.random.choice(shootings, int(test_percentage * len(shootings)), replace=False):\n",
    "#         train.remove(i)\n",
    "#         test.add(i)\n",
    "#     for i in np.random.choice(nonshootings, int(test_percentage * len(nonshootings)), replace=False):\n",
    "#         train.remove(i)\n",
    "#         test.add(i)\n",
    "    return list(train), list(test)"
   ]
  },
  {
   "cell_type": "code",
   "execution_count": 47,
   "metadata": {},
   "outputs": [
    {
     "name": "stdout",
     "output_type": "stream",
     "text": [
      "163909\n",
      "32781\n"
     ]
    }
   ],
   "source": [
    "print(len(train))\n",
    "print(len(test))"
   ]
  },
  {
   "cell_type": "code",
   "execution_count": 48,
   "metadata": {},
   "outputs": [
    {
     "data": {
      "text/plain": [
       "DecisionTreeClassifier(class_weight=None, criterion='gini', max_depth=None,\n",
       "                       max_features=None, max_leaf_nodes=None,\n",
       "                       min_impurity_decrease=0.0, min_impurity_split=None,\n",
       "                       min_samples_leaf=1, min_samples_split=2,\n",
       "                       min_weight_fraction_leaf=0.0, presort=False,\n",
       "                       random_state=None, splitter='best')"
      ]
     },
     "execution_count": 48,
     "metadata": {},
     "output_type": "execute_result"
    }
   ],
   "source": [
    "model"
   ]
  },
  {
   "cell_type": "code",
   "execution_count": 49,
   "metadata": {},
   "outputs": [
    {
     "data": {
      "text/plain": [
       "Index(['offense_code', 'offense_code_group', 'offense_description', 'shooting',\n",
       "       'occurred_on_date', 'year', 'month', 'day_of_week', 'hour', 'ucr_part',\n",
       "       'ucr_lte_two', 'ucr_lte_three', 'ucr_lte_four', 'is_weekend',\n",
       "       'street_type'],\n",
       "      dtype='object')"
      ]
     },
     "execution_count": 49,
     "metadata": {},
     "output_type": "execute_result"
    }
   ],
   "source": [
    "df.columns"
   ]
  },
  {
   "cell_type": "code",
   "execution_count": 75,
   "metadata": {},
   "outputs": [],
   "source": [
    "from sklearn.metrics import confusion_matrix\n",
    "\n",
    "features = ['year', 'month', 'day_of_week', 'hour','street_type']\n",
    "X = pd.get_dummies(df[features])\n",
    "y = df[\"shooting\"]\n",
    "\n",
    "train_accuracies = []\n",
    "test_accuracies = []\n",
    "generalization_error = []\n",
    "for _ in range(20):\n",
    "    train,test = sample_shooting_data(0.5,0.5)\n",
    "    model.fit(X.iloc[train], y.iloc[train])\n",
    "    \n",
    "    _, _, false_negative, true_positive = confusion_matrix(y.iloc[train], model.predict(X.iloc[train])).ravel()\n",
    "    train_accuracies.append(true_positive /(false_negative + true_positive))\n",
    "    \n",
    "    _, _, false_negative, true_positive = confusion_matrix(y.iloc[test], model.predict(X.iloc[test])).ravel()\n",
    "    test_accuracies.append(true_positive /(false_negative + true_positive))\n",
    "    \n",
    "    generalization_error.append(train_accuracies[-1] - test_accuracies[-1])\n",
    "    \n",
    "    # print(str(true_positive) +\"/(\"+str(false_negative) + \"+\" + str(true_positive) +\")\")"
   ]
  },
  {
   "cell_type": "code",
   "execution_count": 76,
   "metadata": {},
   "outputs": [
    {
     "name": "stdout",
     "output_type": "stream",
     "text": [
      "train accuracy:\n",
      "      mean:\t 0.11347248576850096\n",
      "      median:\t 0.1110056925996205\n",
      "      mode:\t 0.12903225806451613\n",
      "      sd:\t 0.010643114734254389\n",
      "      min:\t 0.09867172675521822\n",
      "      max:\t 0.12903225806451613\n",
      "      count:\t 20\n",
      "      missing: 0\n",
      "      Percentiles:\n",
      "      \t 10%: 0.10037950664136623\n",
      "      \t 25%: 0.10436432637571158\n",
      "      \t 50%: 0.1110056925996205\n",
      "      \t 75%: 0.12381404174573055\n",
      "      \t 90%: 0.127134724857685\n"
     ]
    }
   ],
   "source": [
    "print(\"train accuracy:\")\n",
    "print_summary_stats(train_accuracies,6)"
   ]
  },
  {
   "cell_type": "code",
   "execution_count": 77,
   "metadata": {},
   "outputs": [
    {
     "name": "stdout",
     "output_type": "stream",
     "text": [
      "test accuracy:\n",
      "      mean:\t 0.04516129032258065\n",
      "      median:\t 0.04554079696394687\n",
      "      mode:\t 0.06072106261859583\n",
      "      sd:\t 0.008240626470819152\n",
      "      min:\t 0.026565464895635674\n",
      "      max:\t 0.06072106261859583\n",
      "      count:\t 20\n",
      "      missing: 0\n",
      "      Percentiles:\n",
      "      \t 10%: 0.03757115749525616\n",
      "      \t 25%: 0.039373814041745725\n",
      "      \t 50%: 0.04554079696394687\n",
      "      \t 75%: 0.051233396584440226\n",
      "      \t 90%: 0.053889943074003806\n"
     ]
    }
   ],
   "source": [
    "print(\"test accuracy:\")\n",
    "print_summary_stats(test_accuracies,6)"
   ]
  },
  {
   "cell_type": "code",
   "execution_count": 78,
   "metadata": {},
   "outputs": [
    {
     "name": "stdout",
     "output_type": "stream",
     "text": [
      "generalization error (measured by difference in train and test accuracy):\n",
      "      mean:\t 0.06831119544592029\n",
      "      median:\t 0.07115749525616698\n",
      "      mode:\t 0.09297912713472486\n",
      "      sd:\t 0.013709595345873581\n",
      "      min:\t 0.043643263757115754\n",
      "      max:\t 0.09297912713472486\n",
      "      count:\t 20\n",
      "      missing: 0\n",
      "      Percentiles:\n",
      "      \t 10%: 0.04933586337760911\n",
      "      \t 25%: 0.05834914611005693\n",
      "      \t 50%: 0.07115749525616698\n",
      "      \t 75%: 0.07637571157495256\n",
      "      \t 90%: 0.08576850094876662\n"
     ]
    }
   ],
   "source": [
    "print(\"generalization error (measured by difference in train and test accuracy):\")\n",
    "print_summary_stats(generalization_error,6)"
   ]
  },
  {
   "cell_type": "code",
   "execution_count": 79,
   "metadata": {},
   "outputs": [
    {
     "data": {
      "text/plain": [
       "offense_code    -0.058043\n",
       "shooting         1.000000\n",
       "year            -0.000299\n",
       "month            0.007760\n",
       "hour             0.004458\n",
       "ucr_lte_two     -0.065181\n",
       "ucr_lte_three   -0.037246\n",
       "ucr_lte_four     0.001303\n",
       "is_weekend       0.014121\n",
       "Name: shooting, dtype: float64"
      ]
     },
     "execution_count": 79,
     "metadata": {},
     "output_type": "execute_result"
    }
   ],
   "source": [
    "df.corr()[\"shooting\"]"
   ]
  },
  {
   "cell_type": "code",
   "execution_count": null,
   "metadata": {},
   "outputs": [],
   "source": []
  },
  {
   "cell_type": "markdown",
   "metadata": {},
   "source": [
    "# Chicago Dataset"
   ]
  },
  {
   "cell_type": "code",
   "execution_count": null,
   "metadata": {},
   "outputs": [],
   "source": [
    "chicago_bq_client = None\n",
    "has_fetched_chicago = False\n",
    "def get_fresh_chicago_data(max_rows=10000, force_new_fetch=True):\n",
    "    if force_new_fetch or not has_fetched_chicago:\n",
    "        chicago_bq_client = bigquery.Client(project='bigquery-public-data')\n",
    "        \n",
    "    chicago_db = chicago_bq_client.get_table(\n",
    "        chicago_bq_client.get_dataset(\n",
    "            chicago_bq_client.dataset(\"chicago_crime\", project=\"bigquery-public-data\")\n",
    "        ).table('crime')\n",
    "    )\n",
    "    df = chicago_bq_client.list_rows(chicago_db,max_results=max_rows).to_dataframe()\n",
    "    if force_new_fetch or not has_fetched_chicago:\n",
    "        \n",
    "        # drop useless columns\n",
    "        df.drop(labels=['unique_key','case_number'], axis=1, inplace=True)\n",
    "        \n",
    "        # iucr is just a code for primary_type. We keep primary_type instead of iucr\n",
    "        # because it is more interpretable.\n",
    "        df.drop(labels=['iucr'], axis=1, inplace=True)\n",
    "        \n",
    "        # drop location data\n",
    "        df.drop(labels=[\n",
    "            'x_coordinate',\n",
    "            'y_coordinate',\n",
    "            'updated_on',\n",
    "            'latitude',\n",
    "            'longitude',\n",
    "            'location',\n",
    "            'district',\n",
    "            'ward',\n",
    "            'community_area',\n",
    "            'beat'\n",
    "        ], axis = 1, inplace = True)\n",
    "\n",
    "        df[\"block\"] = df[\"block\"].apply(lambda s: \"\" if not isinstance(s,str) else s.rsplit(\" \", 1)[-1])\n",
    "        block_postfix_counts = df[\"block\"].value_counts()\n",
    "        def replace_blocks(blockpostfix):\n",
    "            common_street_names = [\n",
    "                'BROADWAY','TER',''\n",
    "            ]\n",
    "            if (block_postfix_counts[blockpostfix] < 350 or blockpostfix in common_street_names):\n",
    "                return \"OTHER\"\n",
    "            return blockpostfix\n",
    "        df[\"block\"] = df[\"block\"].apply(replace_blocks)\n",
    "        \n",
    "    has_fetched_chicago = True\n",
    "    return df"
   ]
  },
  {
   "cell_type": "code",
   "execution_count": null,
   "metadata": {},
   "outputs": [],
   "source": [
    "df = get_fresh_chicago_data()"
   ]
  },
  {
   "cell_type": "code",
   "execution_count": null,
   "metadata": {},
   "outputs": [],
   "source": [
    "df.head()"
   ]
  },
  {
   "cell_type": "code",
   "execution_count": null,
   "metadata": {},
   "outputs": [],
   "source": []
  },
  {
   "cell_type": "markdown",
   "metadata": {},
   "source": [
    "# SF Dataset"
   ]
  },
  {
   "cell_type": "code",
   "execution_count": 8,
   "metadata": {},
   "outputs": [],
   "source": [
    "sf_bq_client = bigquery.Client(project='bigquery-public-data')\n",
    "sf_db = sf_bq_client.get_dataset(\n",
    "            sf_bq_client.dataset(\"san_francisco\", project=\"bigquery-public-data\")\n",
    ")"
   ]
  },
  {
   "cell_type": "code",
   "execution_count": 9,
   "metadata": {},
   "outputs": [
    {
     "name": "stdout",
     "output_type": "stream",
     "text": [
      "\n",
      "\n",
      "311_service_requests\n",
      "['unique_key', 'created_date', 'closed_date', 'resolution_action_updated_date', 'status', 'status_notes', 'agency_name', 'category', 'complaint_type', 'descriptor', 'incident_address', 'supervisor_district', 'neighborhood', 'location', 'source', 'media_url', 'latitude', 'longitude', 'police_district']\n",
      "\n",
      "\n",
      "bikeshare_stations\n",
      "['station_id', 'name', 'latitude', 'longitude', 'dockcount', 'landmark', 'installation_date']\n",
      "\n",
      "\n",
      "bikeshare_status\n",
      "['station_id', 'bikes_available', 'docks_available', 'time']\n",
      "\n",
      "\n",
      "bikeshare_trips\n",
      "['trip_id', 'duration_sec', 'start_date', 'start_station_name', 'start_station_id', 'end_date', 'end_station_name', 'end_station_id', 'bike_number', 'zip_code', 'subscriber_type']\n",
      "\n",
      "\n",
      "film_locations\n",
      "['title', 'release_year', 'locations', 'fun_facts', 'production_company', 'distributor', 'director', 'writer', 'actor_1', 'actor_2', 'actor_3']\n",
      "\n",
      "\n",
      "sffd_service_calls\n",
      "['call_number', 'unit_id', 'incident_number', 'call_type', 'call_date', 'watch_date', 'received_timestamp', 'entry_timestamp', 'dispatch_timestamp', 'response_timestamp', 'on_scene_timestamp', 'transport_timestamp', 'hospital_timestamp', 'call_final_disposition', 'available_timestamp', 'address', 'city', 'zipcode_of_incident', 'battalion', 'station_area', 'box', 'original_priority', 'priority', 'final_priority', 'als_unit', 'call_type_group', 'number_of_alarms', 'unit_type', 'unit_sequence_in_call_dispatch', 'fire_prevention_district', 'supervisor_district', 'neighborhood_district', 'location', 'row_id', 'latitude', 'longitude']\n",
      "\n",
      "\n",
      "sfpd_incidents\n",
      "['unique_key', 'category', 'descript', 'dayofweek', 'pddistrict', 'resolution', 'address', 'longitude', 'latitude', 'location', 'pdid', 'timestamp']\n",
      "\n",
      "\n",
      "street_trees\n",
      "['tree_id', 'legal_status', 'species', 'address', 'site_order', 'site_info', 'plant_type', 'care_taker', 'care_assistant', 'plant_date', 'dbh', 'plot_size', 'permit_notes', 'x_coordinate', 'y_coordinate', 'latitude', 'longitude', 'location']\n"
     ]
    }
   ],
   "source": [
    "for table in sf_bq_client.list_tables(sf_db):\n",
    "    print(\"\\n\")\n",
    "    print(table.table_id)\n",
    "    print(list(sf_bq_client.list_rows(table,max_results=100).to_dataframe().columns))"
   ]
  },
  {
   "cell_type": "code",
   "execution_count": null,
   "metadata": {},
   "outputs": [],
   "source": []
  },
  {
   "cell_type": "code",
   "execution_count": null,
   "metadata": {},
   "outputs": [],
   "source": []
  },
  {
   "cell_type": "code",
   "execution_count": null,
   "metadata": {},
   "outputs": [],
   "source": []
  },
  {
   "cell_type": "code",
   "execution_count": null,
   "metadata": {},
   "outputs": [],
   "source": []
  },
  {
   "cell_type": "code",
   "execution_count": null,
   "metadata": {},
   "outputs": [],
   "source": []
  },
  {
   "cell_type": "code",
   "execution_count": null,
   "metadata": {},
   "outputs": [],
   "source": []
  },
  {
   "cell_type": "code",
   "execution_count": null,
   "metadata": {},
   "outputs": [],
   "source": []
  },
  {
   "cell_type": "code",
   "execution_count": null,
   "metadata": {},
   "outputs": [],
   "source": []
  }
 ],
 "metadata": {
  "kernelspec": {
   "display_name": "Python 3",
   "language": "python",
   "name": "python3"
  }
 },
 "nbformat": 4,
 "nbformat_minor": 2
}
